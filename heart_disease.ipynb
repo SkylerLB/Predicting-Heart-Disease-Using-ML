{
 "cells": [
  {
   "cell_type": "markdown",
   "id": "96eb6441",
   "metadata": {},
   "source": [
    "### Importing Essential Libraries"
   ]
  },
  {
   "cell_type": "code",
   "execution_count": null,
   "id": "d51e009c",
   "metadata": {},
   "outputs": [],
   "source": [
    "%matplotlib inline\n",
    "import matplotlib.pyplot as plt\n",
    "import numpy as np\n",
    "import pandas as pd\n",
    "import seaborn as sns"
   ]
  },
  {
   "cell_type": "markdown",
   "id": "d2ab9f99",
   "metadata": {},
   "source": [
    "### Importing and Understanding Our Dataset"
   ]
  },
  {
   "cell_type": "code",
   "execution_count": null,
   "id": "2c37916e",
   "metadata": {},
   "outputs": [],
   "source": [
    "# Load the dataset\n",
    "heart_disease = pd.read_csv('data/heart.csv')\n",
    "heart_disease.head()"
   ]
  },
  {
   "cell_type": "code",
   "execution_count": null,
   "id": "4331a466",
   "metadata": {},
   "outputs": [],
   "source": [
    "# Verifying it as a 'Dataframe' Object in Pandas\n",
    "type(heart_disease)"
   ]
  },
  {
   "cell_type": "code",
   "execution_count": null,
   "id": "5bafbb26",
   "metadata": {},
   "outputs": [],
   "source": [
    "heart_disease.describe()"
   ]
  },
  {
   "cell_type": "code",
   "execution_count": null,
   "id": "7a2cdc76",
   "metadata": {},
   "outputs": [],
   "source": [
    "heart_disease.info()"
   ]
  },
  {
   "cell_type": "code",
   "execution_count": null,
   "id": "4fe105ad",
   "metadata": {},
   "outputs": [],
   "source": [
    "# Shape of the Dataset\n",
    "heart_disease.shape"
   ]
  },
  {
   "cell_type": "code",
   "execution_count": null,
   "id": "3259fc86",
   "metadata": {},
   "outputs": [],
   "source": [
    "# Printing out a few columns\n",
    "heart_disease.head()"
   ]
  },
  {
   "cell_type": "markdown",
   "id": "67f2fcf8",
   "metadata": {},
   "source": [
    "### EDA"
   ]
  },
  {
   "cell_type": "code",
   "execution_count": 416,
   "id": "2dd2fd1e",
   "metadata": {},
   "outputs": [
    {
     "name": "stdout",
     "output_type": "stream",
     "text": [
      "target\n",
      "1    526\n",
      "0    499\n",
      "Name: count, dtype: int64\n",
      "target\n",
      "1    0.513171\n",
      "0    0.486829\n",
      "Name: proportion, dtype: float64\n"
     ]
    },
    {
     "data": {
      "text/plain": [
       "<Axes: xlabel='target', ylabel='count'>"
      ]
     },
     "execution_count": 416,
     "metadata": {},
     "output_type": "execute_result"
    },
    {
     "data": {
      "image/png": "[encoded data removed]",
      "text/plain": [
       "<Figure size 640x480 with 1 Axes>"
      ]
     },
     "metadata": {},
     "output_type": "display_data"
    }
   ],
   "source": [
    "# Class imbalance\n",
    "print(heart_disease['target'].value_counts())\n",
    "print(heart_disease['target'].value_counts(normalize=True))\n",
    "\n",
    "sns.countplot(data=heart_disease, x='target')"
   ]
  },
  {
   "cell_type": "code",
   "execution_count": null,
   "id": "d1e9ad87",
   "metadata": {},
   "outputs": [],
   "source": [
    "# Numerical Distributions\n",
    "numerical_cols = ['age', 'chol', 'thalach', 'oldpeak', 'ca']\n",
    "n_cols = 2\n",
    "n_rows = len(numerical_cols)\n",
    "\n",
    "fig, axes = plt.subplots(n_rows, n_cols, figsize=(12, 4 * n_rows))\n",
    "plt.subplots_adjust(hspace=0.4)\n",
    "\n",
    "for i, col in enumerate(numerical_cols):\n",
    "    # Distribution plot\n",
    "    sns.histplot(heart_disease[col], kde=True, ax=axes[i][0], color='skyblue')\n",
    "    axes[i][0].set_title(f'{col} Distribution')\n",
    "\n",
    "    # Barplot vs target\n",
    "    sns.barplot(x='target', y=col, data=heart_disease, ax=axes[i][1], palette='Set2', hue='target')\n",
    "    axes[i][1].set_title(f'{col} vs Target')\n",
    "\n",
    "plt.tight_layout()\n",
    "plt.show()\n"
   ]
  },
  {
   "cell_type": "code",
   "execution_count": null,
   "id": "45a576f1",
   "metadata": {},
   "outputs": [],
   "source": [
    "# Categorical Distributions\n",
    "categorical_cols = ['sex', 'cp', 'fbs', 'restecg', 'exang', 'slope']\n",
    "n_cols = 2\n",
    "n_rows = len(categorical_cols)\n",
    "\n",
    "fig, axes = plt.subplots(n_rows, n_cols, figsize=(12, 4 * n_rows))\n",
    "plt.subplots_adjust(hspace=0.4)\n",
    "\n",
    "for i, col in enumerate(categorical_cols):\n",
    "    # Distribution plot for categorical feature\n",
    "    sns.countplot(x=col, hue=col, data=heart_disease, ax=axes[i][0], palette='pastel')\n",
    "    axes[i][0].set_title(f'{col} Distribution')\n",
    "\n",
    "    # Countplot of feature grouped by target\n",
    "    sns.countplot(x=col, hue='target', data=heart_disease, ax=axes[i][1], palette='Set2')\n",
    "    axes[i][1].set_title(f'{col} vs Target')\n",
    "\n",
    "plt.tight_layout()\n",
    "plt.show()\n"
   ]
  },
  {
   "cell_type": "markdown",
   "id": "47acbdc6",
   "metadata": {},
   "source": [
    "### Data preprocessing"
   ]
  },
  {
   "cell_type": "code",
   "execution_count": null,
   "id": "58d57ebd",
   "metadata": {},
   "outputs": [],
   "source": [
    "from sklearn.pipeline import Pipeline\n",
    "from sklearn.impute import SimpleImputer\n",
    "from sklearn.compose import ColumnTransformer\n",
    "from sklearn.preprocessing import OneHotEncoder\n",
    "\n",
    "# Numerical transfomer pipeline\n",
    "numerical_features = ['age', 'trestbps', 'chol', 'thalach', 'oldpeak', 'ca']\n",
    "\n",
    "numerical_transformer = Pipeline(steps=[\n",
    "    ('imputer', SimpleImputer(strategy='median')),\n",
    "])"
   ]
  },
  {
   "cell_type": "code",
   "execution_count": null,
   "id": "dcd2df08",
   "metadata": {},
   "outputs": [],
   "source": [
    "# Categorical transfomer pipeline\n",
    "categorical_features = ['sex', 'cp', 'fbs', 'restecg', 'exang', 'slope', 'thal']\n",
    "\n",
    "categorical_transofrmer = Pipeline(steps=[\n",
    "    ('imputer', SimpleImputer(strategy='constant', fill_value=-1)),\n",
    "    ('onehot', OneHotEncoder(handle_unknown='ignore'))\n",
    "])"
   ]
  },
  {
   "cell_type": "code",
   "execution_count": null,
   "id": "c4e7140a",
   "metadata": {},
   "outputs": [],
   "source": [
    "# Data preprocessing\n",
    "\n",
    "preprocessor = ColumnTransformer(\n",
    "    transformers=[\n",
    "        ('cat', categorical_transofrmer, categorical_features),\n",
    "        ('num', numerical_transformer, numerical_features)\n",
    "    ]\n",
    ")"
   ]
  },
  {
   "cell_type": "markdown",
   "id": "e89e6d44",
   "metadata": {},
   "source": [
    "### Model Building"
   ]
  },
  {
   "cell_type": "code",
   "execution_count": null,
   "id": "3fc8d7ac",
   "metadata": {},
   "outputs": [],
   "source": [
    "X = heart_disease.drop('target', axis=1)\n",
    "y = heart_disease['target']"
   ]
  },
  {
   "cell_type": "code",
   "execution_count": null,
   "id": "22afa76d",
   "metadata": {},
   "outputs": [],
   "source": [
    "from sklearn.model_selection import train_test_split\n",
    "\n",
    "X_train, X_test, y_train, y_test = train_test_split(X,y, random_state=42)"
   ]
  },
  {
   "cell_type": "code",
   "execution_count": 414,
   "id": "c5309d69",
   "metadata": {},
   "outputs": [],
   "source": [
    "from sklearn.ensemble import RandomForestClassifier\n",
    "from sklearn.linear_model import LogisticRegression\n",
    "from xgboost import XGBClassifier\n",
    "\n",
    "classification_models = {\n",
    "        'Logistic Regression' : Pipeline(steps=[\n",
    "            ('preprocessor', preprocessor),\n",
    "            ('classifier', LogisticRegression(max_iter=1000))\n",
    "        ]),\n",
    "        'RandomForestClassifier' : Pipeline(steps=[\n",
    "            ('preprocessor', preprocessor),\n",
    "            ('classifier', RandomForestClassifier())\n",
    "        ]),\n",
    "        'XGBoost' : Pipeline(steps=[\n",
    "            ('preprocessor', preprocessor),\n",
    "            ('classifier', XGBClassifier())\n",
    "        ])\n",
    "    }\n",
    "\n",
    "results = {}"
   ]
  },
  {
   "cell_type": "code",
   "execution_count": 415,
   "id": "4edfb88a",
   "metadata": {},
   "outputs": [
    {
     "name": "stderr",
     "output_type": "stream",
     "text": [
      "/home/archlinux/Desktop/TheAIEngineers/Zero-To-Mastery-ML-Notebooks/section-2-data-science-and-ml-tools/testvenv/lib/python3.13/site-packages/sklearn/linear_model/_logistic.py:473: ConvergenceWarning: lbfgs failed to converge after 1000 iteration(s) (status=1):\n",
      "STOP: TOTAL NO. OF ITERATIONS REACHED LIMIT\n",
      "\n",
      "Increase the number of iterations to improve the convergence (max_iter=1000).\n",
      "You might also want to scale the data as shown in:\n",
      "    https://scikit-learn.org/stable/modules/preprocessing.html\n",
      "Please also refer to the documentation for alternative solver options:\n",
      "    https://scikit-learn.org/stable/modules/linear_model.html#logistic-regression\n",
      "  n_iter_i = _check_optimize_result(\n"
     ]
    },
    {
     "data": {
      "text/plain": [
       "{'Logistic Regression': 0.8015564202334631,\n",
       " 'RandomForestClassifier': 0.9766536964980544,\n",
       " 'XGBoost': 0.9883268482490273}"
      ]
     },
     "execution_count": 415,
     "metadata": {},
     "output_type": "execute_result"
    }
   ],
   "source": [
    "np.random.seed(42)\n",
    "\n",
    "for model_name, model in classification_models.items():\n",
    "    model.fit(X_train, y_train)\n",
    "    results[model_name] = model.score(X_test, y_test)\n",
    "\n",
    "results"
   ]
  },
  {
   "cell_type": "code",
   "execution_count": 413,
   "id": "f4ea20fb",
   "metadata": {},
   "outputs": [
    {
     "data": {
      "text/plain": [
       "<Axes: >"
      ]
     },
     "execution_count": 413,
     "metadata": {},
     "output_type": "execute_result"
    },
    {
     "data": {
      "image/png": "[encoded data removed]",
      "text/plain": [
       "<Figure size 640x480 with 1 Axes>"
      ]
     },
     "metadata": {},
     "output_type": "display_data"
    }
   ],
   "source": [
    "results_df = pd.DataFrame(results.values(),\n",
    "                          results.keys(),\n",
    "                          columns=['Accuracy'])\n",
    "results_df.plot.bar()\n",
    "\n",
    "# Notice that XGBoost scored the highest, with ~98.83% accuracy"
   ]
  },
  {
   "cell_type": "markdown",
   "id": "52e90f71",
   "metadata": {},
   "source": [
    "## Hyperparameter Tuning"
   ]
  },
  {
   "cell_type": "markdown",
   "id": "eedb25da",
   "metadata": {},
   "source": [
    "### Logistic Refression Tuning"
   ]
  },
  {
   "cell_type": "code",
   "execution_count": null,
   "id": "50e6d69f",
   "metadata": {},
   "outputs": [],
   "source": [
    "# Logistic Regression hyperparamters\n",
    "log_reg_grid = {\"C\": np.logspace(-4, 4, 20),\n",
    "                \"solver\": [\"liblinear\"]}"
   ]
  },
  {
   "cell_type": "code",
   "execution_count": null,
   "id": "109179f4",
   "metadata": {},
   "outputs": [],
   "source": [
    "from sklearn.model_selection import RandomizedSearchCV\n",
    "\n",
    "np.random.seed(42)\n",
    "# Instance of RandomizedSearchCV with a LogisticRegression() estimator\n",
    "\n",
    "rs_log_reg = RandomizedSearchCV(estimator=LogisticRegression(),\n",
    "                                param_distributions=log_reg_grid,\n",
    "                                cv=5,\n",
    "                                n_iter=1000,\n",
    "                                verbose=True)\n",
    "# Fit the instance of RandomizedSearchCV\n",
    "rs_log_reg.fit(X_train, y_train)"
   ]
  },
  {
   "cell_type": "code",
   "execution_count": null,
   "id": "52e7ad3c",
   "metadata": {},
   "outputs": [],
   "source": [
    "# Best parameters of the RandomizedSearchCV instance\n",
    "rs_log_reg.best_params_"
   ]
  },
  {
   "cell_type": "code",
   "execution_count": null,
   "id": "8e827de6",
   "metadata": {},
   "outputs": [],
   "source": [
    "rs_log_reg.score(X_test, y_test)"
   ]
  },
  {
   "cell_type": "code",
   "execution_count": null,
   "id": "232344d3",
   "metadata": {},
   "outputs": [],
   "source": [
    "# LogisticRegression classifier using the best hyperparameters from RandomizedSearchCV\n",
    "\n",
    "clf = LogisticRegression(solver='liblinear', C=11.288378916846883)\n",
    "clf.fit(X_train, y_train)\n",
    "clf.score(X_test, y_test)"
   ]
  },
  {
   "cell_type": "markdown",
   "id": "e7245d2f",
   "metadata": {},
   "source": [
    "### Random Forest Tuning"
   ]
  },
  {
   "cell_type": "code",
   "execution_count": null,
   "id": "4c66e542",
   "metadata": {},
   "outputs": [],
   "source": [
    "# Random Forest hyperparameters\n",
    "from scipy.stats import randint\n",
    "rf_param_grid = {\n",
    "    'n_estimators' : [100, 200],\n",
    "    'max_depth' : [None , 10, 20],\n",
    "    'min_samples_split' : [2, 5],\n",
    "    'min_samples_leaf' : [1, 2],\n",
    "    'max_features' : ['sqrt', 'log2', None],\n",
    "    'bootstrap' : [True, False]\n",
    "}"
   ]
  },
  {
   "cell_type": "code",
   "execution_count": null,
   "id": "5faa86c6",
   "metadata": {},
   "outputs": [],
   "source": [
    "np.random.seed(42)\n",
    "\n",
    "rs_rf = RandomizedSearchCV(estimator=RandomForestClassifier(),\n",
    "                                param_distributions=rf_param_grid,\n",
    "                                cv=5,\n",
    "                                n_iter=5,\n",
    "                                verbose=True)\n",
    "rs_rf.fit(X_train, y_train)"
   ]
  },
  {
   "cell_type": "code",
   "execution_count": null,
   "id": "727a53be",
   "metadata": {},
   "outputs": [],
   "source": [
    "rs_rf.best_params_"
   ]
  },
  {
   "cell_type": "code",
   "execution_count": null,
   "id": "1182bdb6",
   "metadata": {},
   "outputs": [],
   "source": [
    "rs_rf.score(X_test, y_test)"
   ]
  },
  {
   "cell_type": "code",
   "execution_count": null,
   "id": "44c08c8c",
   "metadata": {},
   "outputs": [],
   "source": [
    "# RandomForest Classifier using the best hyperparameters from RandomizedSearchCV\n",
    "\n",
    "clf = RandomForestClassifier(n_estimators=100,\n",
    "                             min_samples_split=5,\n",
    "                             min_samples_leaf=1,\n",
    "                             max_features='log2',\n",
    "                             max_depth=None,\n",
    "                             bootstrap=False)\n",
    "clf.fit(X_train, y_train)\n",
    "clf.score(X_test, y_test)"
   ]
  },
  {
   "cell_type": "markdown",
   "id": "97089af0",
   "metadata": {},
   "source": [
    "### XGBoost tuning"
   ]
  },
  {
   "cell_type": "code",
   "execution_count": null,
   "id": "9b4942a5",
   "metadata": {},
   "outputs": [],
   "source": [
    "# XGBoost hyperparameters\n",
    "\n",
    "from scipy.stats import uniform\n",
    "xgb_param_grid = {\n",
    "    'n_estimators': randint(100, 1000),         \n",
    "    'learning_rate': uniform(0.01, 0.3),       \n",
    "    'max_depth': randint(3, 15),                \n",
    "    'min_child_weight': randint(1, 10),        \n",
    "    'subsample': uniform(0.5, 0.5),             \n",
    "    'colsample_bytree': uniform(0.5, 0.5),      \n",
    "    'gamma': uniform(0, 0.5),                   \n",
    "    'reg_alpha': uniform(0, 1),\n",
    "    'reg_lambda' : uniform(0,1)              \n",
    "}"
   ]
  },
  {
   "cell_type": "code",
   "execution_count": null,
   "id": "015fdac8",
   "metadata": {},
   "outputs": [],
   "source": [
    "np.random.seed(42)\n",
    "\n",
    "xg_rs = RandomizedSearchCV(estimator=XGBClassifier(),\n",
    "                           param_distributions=xgb_param_grid,\n",
    "                           cv=5,\n",
    "                           n_iter=5,\n",
    "                           verbose=True)\n",
    "xg_rs.fit(X_train, y_train)"
   ]
  },
  {
   "cell_type": "code",
   "execution_count": null,
   "id": "f6dc01e4",
   "metadata": {},
   "outputs": [],
   "source": [
    "xg_rs.best_params_"
   ]
  },
  {
   "cell_type": "code",
   "execution_count": null,
   "id": "25ab5de9",
   "metadata": {},
   "outputs": [],
   "source": [
    "xg_rs.score(X_test, y_test)"
   ]
  },
  {
   "cell_type": "code",
   "execution_count": null,
   "id": "464f702e",
   "metadata": {},
   "outputs": [],
   "source": [
    "best_params = {}\n",
    "\n",
    "clf = XGBClassifier(colsample_bytree=0.5852620618436457,\n",
    "                    gamma=0.03252579649263976,\n",
    "                    learning_rate=0.29466566117599996,\n",
    "                    max_depth=14,\n",
    "                    min_child_weight=2,\n",
    "                    n_estimators=876,\n",
    "                    reg_alpha=0.015966252220214194,\n",
    "                    reg_lambda=0.230893825622149,\n",
    "                    subsample=0.6205127330130058)\n",
    "clf.fit(X_train, y_train)\n",
    "clf.score(X_test, y_test)"
   ]
  },
  {
   "cell_type": "markdown",
   "id": "71760998",
   "metadata": {},
   "source": [
    "## Model Evaluation"
   ]
  },
  {
   "cell_type": "code",
   "execution_count": null,
   "id": "f9b17dab",
   "metadata": {},
   "outputs": [],
   "source": [
    "# Best scoring model is XGBoost\n",
    "pipe = Pipeline([\n",
    "    ('estimator', preprocessor),\n",
    "    ('classifier', clf)\n",
    "])\n",
    "pipe.fit(X_train, y_train)"
   ]
  },
  {
   "cell_type": "code",
   "execution_count": null,
   "id": "3fefda50",
   "metadata": {},
   "outputs": [],
   "source": [
    "from sklearn.metrics import precision_score, recall_score, accuracy_score, confusion_matrix\n",
    "y_preds = pipe.predict(X_test)"
   ]
  },
  {
   "cell_type": "code",
   "execution_count": 403,
   "id": "ba3df8e9",
   "metadata": {},
   "outputs": [
    {
     "data": {
      "text/plain": [
       "array([[132,   0],\n",
       "       [  3, 122]])"
      ]
     },
     "execution_count": 403,
     "metadata": {},
     "output_type": "execute_result"
    }
   ],
   "source": [
    "# Confusion matrix\n",
    "confusion_matrix(y_test, y_preds)"
   ]
  },
  {
   "cell_type": "code",
   "execution_count": 404,
   "id": "6a94be57",
   "metadata": {},
   "outputs": [
    {
     "data": {
      "image/png": "[encoded data removed]",
      "text/plain": [
       "<Figure size 300x300 with 1 Axes>"
      ]
     },
     "metadata": {},
     "output_type": "display_data"
    }
   ],
   "source": [
    "def plot_conf_mat(y_test, y_preds):\n",
    "    \"\"\"\n",
    "    Plots a confusion matrix using Seaborn's heatmap().\n",
    "    \"\"\"\n",
    "    fig, ax = plt.subplots(figsize=(3, 3))\n",
    "    ax = sns.heatmap(confusion_matrix(y_test, y_preds),\n",
    "                     annot=True,\n",
    "                     cbar=False)\n",
    "    plt.xlabel(\"True label\")\n",
    "    plt.ylabel(\"Predicted label\")\n",
    "    \n",
    "    bottom, top = ax.get_ylim()\n",
    "    ax.set_ylim(bottom + 0.5, top - 0.5);\n",
    "    \n",
    "plot_conf_mat(y_test, y_preds)"
   ]
  },
  {
   "cell_type": "code",
   "execution_count": 405,
   "id": "25247cf3",
   "metadata": {},
   "outputs": [
    {
     "data": {
      "text/plain": [
       "0.9883268482490273"
      ]
     },
     "execution_count": 405,
     "metadata": {},
     "output_type": "execute_result"
    }
   ],
   "source": [
    "accuracy_score(y_test, y_preds)"
   ]
  },
  {
   "cell_type": "code",
   "execution_count": 406,
   "id": "7ef65dc2",
   "metadata": {},
   "outputs": [
    {
     "data": {
      "text/plain": [
       "1.0"
      ]
     },
     "execution_count": 406,
     "metadata": {},
     "output_type": "execute_result"
    }
   ],
   "source": [
    "precision_score(y_test, y_preds)"
   ]
  },
  {
   "cell_type": "code",
   "execution_count": 407,
   "id": "202deee6",
   "metadata": {},
   "outputs": [
    {
     "data": {
      "text/plain": [
       "0.976"
      ]
     },
     "execution_count": 407,
     "metadata": {},
     "output_type": "execute_result"
    }
   ],
   "source": [
    "recall_score(y_test, y_preds)"
   ]
  },
  {
   "cell_type": "code",
   "execution_count": 408,
   "id": "7c232468",
   "metadata": {},
   "outputs": [
    {
     "data": {
      "text/plain": [
       "np.float64(0.9970731707317073)"
      ]
     },
     "execution_count": 408,
     "metadata": {},
     "output_type": "execute_result"
    }
   ],
   "source": [
    "from sklearn.model_selection import cross_val_score\n",
    "cross_val_acc = np.mean(cross_val_score(clf,\n",
    "                                        X,\n",
    "                                        y,\n",
    "                                        scoring=\"accuracy\",\n",
    "                                        cv=5))\n",
    "\n",
    "cross_val_acc"
   ]
  },
  {
   "cell_type": "code",
   "execution_count": 410,
   "id": "229c9e0b",
   "metadata": {},
   "outputs": [
    {
     "data": {
      "text/plain": [
       "np.float64(0.9944954128440366)"
      ]
     },
     "execution_count": 410,
     "metadata": {},
     "output_type": "execute_result"
    }
   ],
   "source": [
    "# Cross-validated Precision\n",
    "cross_val_precision = np.mean(cross_val_score(clf,\n",
    "                                              X,\n",
    "                                              y,\n",
    "                                              scoring=\"precision\",\n",
    "                                              cv=5))\n",
    "\n",
    "cross_val_precision"
   ]
  },
  {
   "cell_type": "code",
   "execution_count": 409,
   "id": "270f7903",
   "metadata": {},
   "outputs": [
    {
     "data": {
      "text/plain": [
       "np.float64(1.0)"
      ]
     },
     "execution_count": 409,
     "metadata": {},
     "output_type": "execute_result"
    }
   ],
   "source": [
    "# Cross-validated Recall\n",
    "cross_val_recall = np.mean(cross_val_score(clf,\n",
    "                                           X,\n",
    "                                           y,\n",
    "                                           scoring=\"recall\",\n",
    "                                           cv=5))\n",
    "\n",
    "cross_val_recall"
   ]
  }
 ],
 "metadata": {
  "kernelspec": {
   "display_name": "testvenv",
   "language": "python",
   "name": "python3"
  },
  "language_info": {
   "codemirror_mode": {
    "name": "ipython",
    "version": 3
   },
   "file_extension": ".py",
   "mimetype": "text/x-python",
   "name": "python",
   "nbconvert_exporter": "python",
   "pygments_lexer": "ipython3",
   "version": "3.13.5"
  }
 },
 "nbformat": 4,
 "nbformat_minor": 5
}
